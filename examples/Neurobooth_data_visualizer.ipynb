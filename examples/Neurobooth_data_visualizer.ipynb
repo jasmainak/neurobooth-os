{
 "cells": [
  {
   "cell_type": "code",
   "execution_count": 1,
   "id": "e1f17d0b",
   "metadata": {},
   "outputs": [],
   "source": [
    "%matplotlib qt"
   ]
  },
  {
   "cell_type": "code",
   "execution_count": 4,
   "id": "6e53c606",
   "metadata": {},
   "outputs": [],
   "source": [
    "import pyxdf\n",
    "import matplotlib.pyplot as plt\n",
    "import numpy as np\n",
    "import cv2\n",
    "import pyaudio\n",
    "import glob\n",
    "import IPython.display as ipd\n",
    "# import librosa\n",
    "# import librosa.display\n",
    "import os.path as op\n",
    "\n",
    "plt.rcParams['figure.figsize'] = [15, 8]\n",
    "\n",
    "neurobooth_data_dir = r'C:\\neurobooth\\neurobooth_data'\n",
    "file = op.join(neurobooth_data_dir, 'mainakjas__mouse_task_1.xdf')\n",
    "\n",
    "\n",
    "root_path = '/home/kvattis/Desktop/data/'\n",
    "root_path = neurobooth_data_dir\n",
    "sess_name = 'mainakjas__mouse_task_1' # 'AG4__DSC_task' 'AG4__mouse_task' 'AG4__pursuit_task' 'AG4__sit_to_stand_task'\n",
    "\n",
    "file = op.join(root_path,  sess_name + \".xdf\")\n",
    "vids_bio = glob.glob(root_path + sess_name.replace(\"__\", \"_\") + \"*.avi\")\n",
    "vids_intel = glob.glob(root_path + sess_name.replace(\"__\", \"_\") + \"*.bag\")"
   ]
  },
  {
   "cell_type": "code",
   "execution_count": 5,
   "id": "e1c78755",
   "metadata": {},
   "outputs": [
    {
     "name": "stdout",
     "output_type": "stream",
     "text": [
      "Brios: = \n",
      "\tNone\n",
      "Intel: = \n",
      "\tNone\n"
     ]
    }
   ],
   "source": [
    "print(\"Brios: = \")\n",
    "_ = [print(\"\\t\" + v) for v in vids_bio] if len(vids_bio) else print(\"\\tNone\")\n",
    "print(\"Intel: = \")\n",
    "_ = [print(\"\\t\" + v) for v in vids_intel] if len(vids_intel) else print(\"\\tNone\")"
   ]
  },
  {
   "cell_type": "code",
   "execution_count": 6,
   "id": "c09c18d7",
   "metadata": {},
   "outputs": [
    {
     "ename": "NameError",
     "evalue": "name 'tstamp' is not defined",
     "output_type": "error",
     "traceback": [
      "\u001b[1;31m---------------------------------------------------------------------------\u001b[0m",
      "\u001b[1;31mNameError\u001b[0m                                 Traceback (most recent call last)",
      "\u001b[1;32m<ipython-input-6-532e443787e5>\u001b[0m in \u001b[0;36m<module>\u001b[1;34m\u001b[0m\n\u001b[0;32m      8\u001b[0m     \u001b[0mtstamp\u001b[0m \u001b[1;33m=\u001b[0m \u001b[0mfloat\u001b[0m\u001b[1;33m(\u001b[0m\u001b[0mvids_intel\u001b[0m\u001b[1;33m[\u001b[0m\u001b[1;36m0\u001b[0m\u001b[1;33m]\u001b[0m\u001b[1;33m.\u001b[0m\u001b[0msplit\u001b[0m\u001b[1;33m(\u001b[0m\u001b[1;34m\"_\"\u001b[0m\u001b[1;33m)\u001b[0m\u001b[1;33m[\u001b[0m\u001b[1;33m-\u001b[0m\u001b[1;36m1\u001b[0m\u001b[1;33m]\u001b[0m\u001b[1;33m.\u001b[0m\u001b[0mreplace\u001b[0m\u001b[1;33m(\u001b[0m\u001b[1;34m\".bag\"\u001b[0m\u001b[1;33m,\u001b[0m \u001b[1;34m\"\"\u001b[0m\u001b[1;33m)\u001b[0m\u001b[1;33m)\u001b[0m\u001b[1;33m\u001b[0m\u001b[1;33m\u001b[0m\u001b[0m\n\u001b[0;32m      9\u001b[0m \u001b[1;33m\u001b[0m\u001b[0m\n\u001b[1;32m---> 10\u001b[1;33m \u001b[0mdt_object\u001b[0m \u001b[1;33m=\u001b[0m \u001b[0mdatetime\u001b[0m\u001b[1;33m.\u001b[0m\u001b[0mfromtimestamp\u001b[0m\u001b[1;33m(\u001b[0m\u001b[0mtstamp\u001b[0m\u001b[1;33m)\u001b[0m\u001b[1;33m\u001b[0m\u001b[1;33m\u001b[0m\u001b[0m\n\u001b[0m\u001b[0;32m     11\u001b[0m \u001b[1;33m\u001b[0m\u001b[0m\n\u001b[0;32m     12\u001b[0m \u001b[0mprint\u001b[0m\u001b[1;33m(\u001b[0m\u001b[1;34m\"Date recorded:\"\u001b[0m\u001b[1;33m,\u001b[0m \u001b[0mdt_object\u001b[0m\u001b[1;33m)\u001b[0m\u001b[1;33m\u001b[0m\u001b[1;33m\u001b[0m\u001b[0m\n",
      "\u001b[1;31mNameError\u001b[0m: name 'tstamp' is not defined"
     ]
    }
   ],
   "source": [
    "# Print date\n",
    "\n",
    "from datetime import datetime\n",
    "\n",
    "if len(vids_bio):\n",
    "    tstamp = float(vids_bio[0].split(\"_\")[-1].replace(\".avi\", \"\"))\n",
    "elif len(vids_intel):\n",
    "    tstamp = float(vids_intel[0].split(\"_\")[-1].replace(\".bag\", \"\"))\n",
    "    \n",
    "dt_object = datetime.fromtimestamp(tstamp)\n",
    "\n",
    "print(\"Date recorded:\", dt_object)\n",
    "\n"
   ]
  },
  {
   "cell_type": "code",
   "execution_count": 7,
   "id": "eaa0808c",
   "metadata": {},
   "outputs": [],
   "source": [
    "\n",
    "def read_vid(cap):\n",
    "    vid_mat = []    \n",
    "    f_num = 0\n",
    "    while True:\n",
    "        ret, frame = cap.read()        \n",
    "        if not ret:\n",
    "            break\n",
    "        # vid_mat.append(np.average(frame,2))\n",
    "        vid_mat.append(np.average(frame))        \n",
    "        f_num += 1\n",
    "        \n",
    "    # vid_mat = np.stack(vid_mat, 2)    \n",
    "    return vid_mat#, f_num\n",
    "\n",
    "    \n",
    "def plot_frames(vid_mat_list, frame_nums):\n",
    "    \n",
    "    n_cams = len(vid_mat_list)\n",
    "    fig, axs = plt.subplots(1, n_cams)\n",
    "    \n",
    "    for ax, cap, frame_num in zip(axs, vid_mat_list, frame_nums):\n",
    "        frame = cap[:,:, frame_num]\n",
    "        ax.imshow(frame)\n",
    "\n",
    "    \n",
    "def plot_averg(vid_crp_list, frame_events_list):\n",
    "    \n",
    "    n_cams = len(vid_crp_list)\n",
    "    fig, axs = plt.subplots(n_cams,1)\n",
    "    \n",
    "    for ax, cap, evts in zip(axs, vid_crp_list, frame_events_list):\n",
    "        cap_m =cap # np.mean(cap,(0,1))  \n",
    "        for ev in evts:\n",
    "            ax.axvline(ev)\n",
    "            \n",
    "        ax.plot(cap_m, \".-\", color='r')\n",
    "            \n",
    "\n",
    "def find_closest(marker_stmp, vid_stmps):\n",
    "   inx =  np.argmin(np.abs(vid_stmps['time_stamps'] - marker_stmp))\n",
    "   if vid_stmps['time_series'].shape[1]> 1:\n",
    "        frame_num = vid_stmps['time_series'][inx,0]\n",
    "   else:\n",
    "        frame_num, = vid_stmps['time_series'][inx]\n",
    "   return int(frame_num)\n",
    "\n",
    "    \n",
    "def sound(array, fs=43):\n",
    "    p = pyaudio.PyAudio()\n",
    "    stream = p.open(format=pyaudio.paInt16, channels=len(array.shape), rate=fs, output=True)\n",
    "    stream.write(array.tobytes())\n",
    "    stream.stop_stream()\n",
    "    stream.close()\n",
    "    p.terminate()\n",
    "    \n",
    "def record(duration=3, fs=44100):\n",
    "    nsamples = duration*fs\n",
    "    p = pyaudio.PyAudio()\n",
    "    stream = p.open(format=pyaudio.paInt16, channels=1, rate=fs, input=True,\n",
    "                    frames_per_buffer=nsamples)\n",
    "    buffer = stream.read(nsamples)\n",
    "    array = np.frombuffer(buffer, dtype='int16')\n",
    "    stream.stop_stream()\n",
    "    stream.close()\n",
    "    p.terminate()\n",
    "    return array\n"
   ]
  },
  {
   "cell_type": "code",
   "execution_count": 8,
   "id": "0c7f2888",
   "metadata": {
    "scrolled": false
   },
   "outputs": [
    {
     "name": "stdout",
     "output_type": "stream",
     "text": [
      "IntelFrameIndex_cam1 samples:1705, duration: 27.991612700017868, fps:60.91110284613618\n",
      "Marker samples:0\n",
      "IntelFrameIndex_cam2 samples:1697, duration: 27.996861499996157, fps:60.61393703005721\n",
      "IntelFrameIndex_cam3 samples:0\n",
      "Audio samples:1206, duration: 28.000007299997378, fps:43.0714173420988\n",
      "Mouse samples:13204, duration: 16.492484800051898, fps:800.6070740752449\n",
      "FlirFrameIndex samples:0\n",
      "FlirFrameIndex samples:0\n",
      "mbient_RH samples:2792, duration: 27.99843539998983, fps:99.71985791752543\n"
     ]
    }
   ],
   "source": [
    "\n",
    "data, header = pyxdf.load_xdf(file)\n",
    "has_marker = False\n",
    "cams, intels = {}, {}\n",
    "plt.figure()\n",
    "for i, d in enumerate(data):\n",
    "    name = d['info']['name'][0]\n",
    "    \n",
    "    if d['time_stamps'].size == 0 :\n",
    "        print(f\"{name} samples:0\")\n",
    "        continue\n",
    "    \n",
    "    if d['info']['name'][0] == 'Marker':\n",
    "        has_marker = True\n",
    "        markers = d\n",
    "    elif d['info']['name'][0][:4] == 'Brio':\n",
    "        cname = f\"brio{d['info']['name'][0][-1]}\"\n",
    "        cams[cname] = d\n",
    "    elif d['info']['name'][0][:5] == 'Intel':\n",
    "        cname = f\"intel{d['info']['name'][0][-1]}\"\n",
    "        intels[cname] = d          \n",
    "    elif d['info']['name'][0] == 'Tobii':\n",
    "        tobii = d\n",
    "    elif d['info']['name'][0] == 'Audio':\n",
    "        audio = d        \n",
    "    elif d['info']['name'][0] == 'Mouse':\n",
    "        mouse = d       \n",
    "        \n",
    "    ts1, = d['footer']['info']['last_timestamp']\n",
    "    ts0, = d['footer']['info']['first_timestamp']\n",
    "    # ts0 = d['time_stamps'][2]\n",
    "    # ts1 = d['time_stamps'][-1]\n",
    "    tsn, = d['footer']['info']['sample_count']\n",
    "    duration = float(ts1)-float(ts0)\n",
    "    fps = 0 if int(tsn)==0 else int(tsn)/duration\n",
    "    print(f\"{name} samples:{tsn}, duration: {duration}, fps:{fps}\")\n",
    "    tmst = d['time_stamps']\n",
    "    plt.plot(tmst, [i]*len(tmst), \".\", label=name)\n",
    "plt.legend()\n",
    "plt.show()\n",
    "\n",
    "  \n"
   ]
  },
  {
   "cell_type": "code",
   "execution_count": 9,
   "id": "5a6e46d6",
   "metadata": {
    "scrolled": false
   },
   "outputs": [
    {
     "name": "stdout",
     "output_type": "stream",
     "text": [
      "Plotting time series\n"
     ]
    }
   ],
   "source": [
    "\n",
    "print(\"Plotting time series\")\n",
    "for i, d in enumerate(data):\n",
    "    name = d['info']['name'][0]\n",
    "    if name[:4] in [\"Mark\",\"Inte\", \"Brio\"] :\n",
    "        continue\n",
    "    if d['time_stamps'].size == 0 :\n",
    "        continue\n",
    "        \n",
    "    plt.figure()\n",
    "    plt.title(f\"TS {name}\")\n",
    "    tt = d['time_stamps']\n",
    "    ts = d['time_series']\n",
    "    if not isinstance(ts, list) and ts.shape[1]> 1:\n",
    "        ts = ts[:,0]\n",
    "    \n",
    "    if isinstance(ts, list):\n",
    "        ts = np.array(ts)\n",
    "    \n",
    "    ts_f = ts.flatten(\"C\")\n",
    "    plt.plot(ts_f, label=name)\n",
    "#     if has_marker:        \n",
    "#         mrk = markers['time_stamps']\n",
    "#         for mk in mrk:\n",
    "#             plt.axvline(mk, color = \"red\", linestyle=\"--\")"
   ]
  },
  {
   "cell_type": "code",
   "execution_count": 10,
   "id": "46cc6d61",
   "metadata": {
    "scrolled": false
   },
   "outputs": [
    {
     "name": "stdout",
     "output_type": "stream",
     "text": [
      "Plotting diff time stamps\n",
      "IntelFrameIndex_cam3 samples:0\n",
      "FlirFrameIndex samples:0\n",
      "FlirFrameIndex samples:0\n"
     ]
    }
   ],
   "source": [
    "print(\"Plotting diff time stamps\")\n",
    "for i, d in enumerate(data):\n",
    "    name, = d['info']['name']\n",
    "    if name == \"Marker\":\n",
    "        continue\n",
    "        \n",
    "    if d['time_stamps'].size == 0 :\n",
    "        print(f\"{name} samples:0\")\n",
    "        continue\n",
    "        \n",
    "    fig, ax = plt.subplots(2,1)\n",
    "    ax[0].set_title(f\"TS {name}\")\n",
    "    tt = np.diff(d['time_stamps'])\n",
    "    \n",
    "    ax[0].plot(tt)\n",
    "    ax[0].set_xlabel(\"Samples\")\n",
    "    ax[0].set_ylabel(\"tdiff\")\n",
    "    ax[1].hist(1/tt, 30)\n",
    "    ax[1].set_xlabel(\"Fps\")\n",
    "    ax[1].set_ylabel(\"Count\")\n",
    "    "
   ]
  },
  {
   "cell_type": "code",
   "execution_count": 11,
   "id": "fd39908f",
   "metadata": {},
   "outputs": [
    {
     "name": "stdout",
     "output_type": "stream",
     "text": [
      "Plotting: \n",
      "\t LSL sample index vs Intel frame index \n",
      "\t Intel frame diff\n",
      "\n",
      "\t Intel frame diff hist \n",
      "\t LSL frame diff hist\n"
     ]
    },
    {
     "ename": "IndexError",
     "evalue": "index 0 is out of bounds for axis 1 with size 0",
     "output_type": "error",
     "traceback": [
      "\u001b[1;31m---------------------------------------------------------------------------\u001b[0m",
      "\u001b[1;31mIndexError\u001b[0m                                Traceback (most recent call last)",
      "\u001b[1;32m<ipython-input-11-17fafe307f0c>\u001b[0m in \u001b[0;36m<module>\u001b[1;34m\u001b[0m\n\u001b[0;32m      5\u001b[0m     \u001b[1;32mif\u001b[0m \u001b[0mname\u001b[0m\u001b[1;33m[\u001b[0m\u001b[1;33m:\u001b[0m\u001b[1;36m4\u001b[0m\u001b[1;33m]\u001b[0m  \u001b[1;33m!=\u001b[0m \u001b[1;34m\"Inte\"\u001b[0m\u001b[1;33m:\u001b[0m\u001b[1;33m\u001b[0m\u001b[1;33m\u001b[0m\u001b[0m\n\u001b[0;32m      6\u001b[0m         \u001b[1;32mcontinue\u001b[0m\u001b[1;33m\u001b[0m\u001b[1;33m\u001b[0m\u001b[0m\n\u001b[1;32m----> 7\u001b[1;33m     \u001b[0minx_lsl\u001b[0m  \u001b[1;33m=\u001b[0m \u001b[0md\u001b[0m\u001b[1;33m[\u001b[0m\u001b[1;34m'time_series'\u001b[0m\u001b[1;33m]\u001b[0m\u001b[1;33m[\u001b[0m\u001b[1;33m:\u001b[0m\u001b[1;33m,\u001b[0m\u001b[1;36m0\u001b[0m\u001b[1;33m]\u001b[0m\u001b[1;33m\u001b[0m\u001b[1;33m\u001b[0m\u001b[0m\n\u001b[0m\u001b[0;32m      8\u001b[0m     \u001b[0minx_int\u001b[0m  \u001b[1;33m=\u001b[0m \u001b[0md\u001b[0m\u001b[1;33m[\u001b[0m\u001b[1;34m'time_series'\u001b[0m\u001b[1;33m]\u001b[0m\u001b[1;33m[\u001b[0m\u001b[1;33m:\u001b[0m\u001b[1;33m,\u001b[0m\u001b[1;36m1\u001b[0m\u001b[1;33m]\u001b[0m\u001b[1;33m\u001b[0m\u001b[1;33m\u001b[0m\u001b[0m\n\u001b[0;32m      9\u001b[0m \u001b[1;33m\u001b[0m\u001b[0m\n",
      "\u001b[1;31mIndexError\u001b[0m: index 0 is out of bounds for axis 1 with size 0"
     ]
    }
   ],
   "source": [
    "print(\"Plotting: \\n\\t LSL sample index vs Intel frame index \\n\\t Intel frame diff\")\n",
    "print(\"\\n\\t Intel frame diff hist \\n\\t LSL frame diff hist\")\n",
    "for i, d in enumerate(data):\n",
    "    name = d['info']['name'][0]\n",
    "    if name[:4]  != \"Inte\":\n",
    "        continue\n",
    "    inx_lsl  = d['time_series'][:,0]\n",
    "    inx_int  = d['time_series'][:,1]\n",
    "        \n",
    "    fig, ax = plt.subplots(4,1)\n",
    "    ax[0].set_title(f\"TS {name}, Intel stamp vs LSL stamp\")\n",
    "    dif_int = np.diff(inx_int)\n",
    "    dif_lsl = np.diff(inx_lsl)\n",
    "    \n",
    "    ax[0].plot(inx_lsl, inx_int)\n",
    "    \n",
    "    ax[1].set_title(\"Intel frame diff\")\n",
    "    ax[1].plot(dif_int)\n",
    "    \n",
    "    ax[2].set_title(\"Intel frame diff hist\")\n",
    "    ax[2].hist(dif_int)\n",
    "    \n",
    "    ax[3].set_title(\"Lsl frame diff\")\n",
    "    ax[3].hist(dif_lsl)    \n",
    "    \n",
    "    fig.tight_layout()"
   ]
  },
  {
   "cell_type": "code",
   "execution_count": null,
   "id": "e43bc470",
   "metadata": {},
   "outputs": [],
   "source": [
    "\n",
    "        "
   ]
  },
  {
   "cell_type": "code",
   "execution_count": 12,
   "id": "c376e61d",
   "metadata": {},
   "outputs": [
    {
     "name": "stdout",
     "output_type": "stream",
     "text": [
      "Plotting diff time stamps\n"
     ]
    }
   ],
   "source": [
    "print(\"Plotting diff time stamps\")\n",
    "for i, d in enumerate(data):\n",
    "    name, = d['info']['name']\n",
    "    if \"mbient\" not in name:\n",
    "        continue\n",
    " \n",
    "    if d['time_stamps'].size == 0 :\n",
    "        print(f\"{name} samples:0\")\n",
    "        continue\n",
    "        \n",
    "    inx_lsl  = d['time_series'][:,0]\n",
    "    inx_int  = d['time_series'][:,1]\n",
    "        \n",
    "    fig, ax = plt.subplots(4,1)\n",
    "    ax[0].set_title(f\"TS {name}, Mbt local stamp vs LSL stamp\")\n",
    "    dif_int = np.diff(inx_int)\n",
    "    dif_lsl = np.diff(inx_lsl)\n",
    "    \n",
    "    ax[0].plot(inx_lsl, inx_int)\n",
    "    \n",
    "    ax[1].set_title(\"Mbt local frame diff\")\n",
    "    ax[1].plot(dif_int)\n",
    "    \n",
    "    ax[2].set_title(\"Mbt local frame diff hist\")\n",
    "    ax[2].hist(dif_int)\n",
    "    \n",
    "    ax[3].set_title(\"Lsl frame diff\")\n",
    "    ax[3].hist(dif_lsl)    \n",
    "    \n",
    "    fig.tight_layout()"
   ]
  },
  {
   "cell_type": "markdown",
   "id": "fb373f63",
   "metadata": {},
   "source": [
    "print(\"Plotting: \\n\\t LSL sample index vs Intel frame index \\n\\t Intel frame diff\")\n",
    "print(\"\\n\\t Intel frame diff hist \\n\\t LSL frame diff hist\")\n",
    "for i, d in enumerate(data):\n",
    "    name = d['info']['name'][0]\n",
    "    if name[:4]  != \"Xime\":\n",
    "        continue\n",
    "    inx_lsl  = d['time_stamps']\n",
    "    inx_int  = d['time_series'][:,1]\n",
    "\n",
    "    inx_int = inx_int/1e9\n",
    "    \n",
    "\n",
    "    \n",
    "    fig, ax = plt.subplots(2,1, sharex=True)\n",
    "    \n",
    "    dif_int = np.diff(inx_int)\n",
    "    dif_lsl = np.diff(inx_lsl)\n",
    "    \n",
    "       \n",
    "    mask = np.where(dif_int>-3)\n",
    "    dif_int = dif_int[mask]\n",
    "    print(np.argmin(dif_int), dif_int.shape)\n",
    "    ax[0].set_title(\"Ximia cam ts diff\")\n",
    "    ax[0].hist(dif_int, 50)\n",
    "    \n",
    "    ax[1].set_title(\"Ximia ls ts diff\")\n",
    "    ax[1].hist(dif_lsl, 50)\n",
    "\n",
    "    \n",
    "    inx_int -= inx_int[0]\n",
    "    inx_lsl -= inx_lsl[0] \n",
    "    inx_int = inx_int[mask]\n",
    "    inx_lsl = inx_lsl[mask]\n",
    "#     inx_lsl = inx_lsl[mask]\n",
    "    \n",
    "    fig, ax = plt.subplots(1, sharex=True)\n",
    "    dd = inx_int - inx_lsl\n",
    "    ax.plot(inx_int, inx_lsl)\n",
    "    print(inx_int.shape, inx_lsl.shape)\n",
    "#     ax.hist(dd, 50)    \n",
    "    "
   ]
  },
  {
   "cell_type": "code",
   "execution_count": 13,
   "id": "8346b91f",
   "metadata": {},
   "outputs": [
    {
     "ename": "ValueError",
     "evalue": "Number of rows must be a positive integer, not 0",
     "output_type": "error",
     "traceback": [
      "\u001b[1;31m---------------------------------------------------------------------------\u001b[0m",
      "\u001b[1;31mValueError\u001b[0m                                Traceback (most recent call last)",
      "\u001b[1;32m<ipython-input-13-d65f84d88700>\u001b[0m in \u001b[0;36m<module>\u001b[1;34m\u001b[0m\n\u001b[0;32m     15\u001b[0m                 for vid in chinfs ]\n\u001b[0;32m     16\u001b[0m \u001b[1;33m\u001b[0m\u001b[0m\n\u001b[1;32m---> 17\u001b[1;33m \u001b[0mplot_averg\u001b[0m\u001b[1;33m(\u001b[0m\u001b[0mvid_mats\u001b[0m\u001b[1;33m,\u001b[0m \u001b[0mfrm_events\u001b[0m\u001b[1;33m)\u001b[0m\u001b[1;33m\u001b[0m\u001b[1;33m\u001b[0m\u001b[0m\n\u001b[0m\u001b[0;32m     18\u001b[0m \u001b[1;33m\u001b[0m\u001b[0m\n",
      "\u001b[1;32m<ipython-input-7-e5b233f496c5>\u001b[0m in \u001b[0;36mplot_averg\u001b[1;34m(vid_crp_list, frame_events_list)\u001b[0m\n\u001b[0;32m     27\u001b[0m \u001b[1;33m\u001b[0m\u001b[0m\n\u001b[0;32m     28\u001b[0m     \u001b[0mn_cams\u001b[0m \u001b[1;33m=\u001b[0m \u001b[0mlen\u001b[0m\u001b[1;33m(\u001b[0m\u001b[0mvid_crp_list\u001b[0m\u001b[1;33m)\u001b[0m\u001b[1;33m\u001b[0m\u001b[1;33m\u001b[0m\u001b[0m\n\u001b[1;32m---> 29\u001b[1;33m     \u001b[0mfig\u001b[0m\u001b[1;33m,\u001b[0m \u001b[0maxs\u001b[0m \u001b[1;33m=\u001b[0m \u001b[0mplt\u001b[0m\u001b[1;33m.\u001b[0m\u001b[0msubplots\u001b[0m\u001b[1;33m(\u001b[0m\u001b[0mn_cams\u001b[0m\u001b[1;33m,\u001b[0m\u001b[1;36m1\u001b[0m\u001b[1;33m)\u001b[0m\u001b[1;33m\u001b[0m\u001b[1;33m\u001b[0m\u001b[0m\n\u001b[0m\u001b[0;32m     30\u001b[0m \u001b[1;33m\u001b[0m\u001b[0m\n\u001b[0;32m     31\u001b[0m     \u001b[1;32mfor\u001b[0m \u001b[0max\u001b[0m\u001b[1;33m,\u001b[0m \u001b[0mcap\u001b[0m\u001b[1;33m,\u001b[0m \u001b[0mevts\u001b[0m \u001b[1;32min\u001b[0m \u001b[0mzip\u001b[0m\u001b[1;33m(\u001b[0m\u001b[0maxs\u001b[0m\u001b[1;33m,\u001b[0m \u001b[0mvid_crp_list\u001b[0m\u001b[1;33m,\u001b[0m \u001b[0mframe_events_list\u001b[0m\u001b[1;33m)\u001b[0m\u001b[1;33m:\u001b[0m\u001b[1;33m\u001b[0m\u001b[1;33m\u001b[0m\u001b[0m\n",
      "\u001b[1;32m~\\anaconda3\\envs\\neurobooth\\lib\\site-packages\\matplotlib\\_api\\deprecation.py\u001b[0m in \u001b[0;36mwrapper\u001b[1;34m(*args, **kwargs)\u001b[0m\n\u001b[0;32m    469\u001b[0m                 \u001b[1;34m\"parameter will become keyword-only %(removal)s.\"\u001b[0m\u001b[1;33m,\u001b[0m\u001b[1;33m\u001b[0m\u001b[1;33m\u001b[0m\u001b[0m\n\u001b[0;32m    470\u001b[0m                 name=name, obj_type=f\"parameter of {func.__name__}()\")\n\u001b[1;32m--> 471\u001b[1;33m         \u001b[1;32mreturn\u001b[0m \u001b[0mfunc\u001b[0m\u001b[1;33m(\u001b[0m\u001b[1;33m*\u001b[0m\u001b[0margs\u001b[0m\u001b[1;33m,\u001b[0m \u001b[1;33m**\u001b[0m\u001b[0mkwargs\u001b[0m\u001b[1;33m)\u001b[0m\u001b[1;33m\u001b[0m\u001b[1;33m\u001b[0m\u001b[0m\n\u001b[0m\u001b[0;32m    472\u001b[0m \u001b[1;33m\u001b[0m\u001b[0m\n\u001b[0;32m    473\u001b[0m     \u001b[1;32mreturn\u001b[0m \u001b[0mwrapper\u001b[0m\u001b[1;33m\u001b[0m\u001b[1;33m\u001b[0m\u001b[0m\n",
      "\u001b[1;32m~\\anaconda3\\envs\\neurobooth\\lib\\site-packages\\matplotlib\\pyplot.py\u001b[0m in \u001b[0;36msubplots\u001b[1;34m(nrows, ncols, sharex, sharey, squeeze, subplot_kw, gridspec_kw, **fig_kw)\u001b[0m\n\u001b[0;32m   1409\u001b[0m     \"\"\"\n\u001b[0;32m   1410\u001b[0m     \u001b[0mfig\u001b[0m \u001b[1;33m=\u001b[0m \u001b[0mfigure\u001b[0m\u001b[1;33m(\u001b[0m\u001b[1;33m**\u001b[0m\u001b[0mfig_kw\u001b[0m\u001b[1;33m)\u001b[0m\u001b[1;33m\u001b[0m\u001b[1;33m\u001b[0m\u001b[0m\n\u001b[1;32m-> 1411\u001b[1;33m     axs = fig.subplots(nrows=nrows, ncols=ncols, sharex=sharex, sharey=sharey,\n\u001b[0m\u001b[0;32m   1412\u001b[0m                        \u001b[0msqueeze\u001b[0m\u001b[1;33m=\u001b[0m\u001b[0msqueeze\u001b[0m\u001b[1;33m,\u001b[0m \u001b[0msubplot_kw\u001b[0m\u001b[1;33m=\u001b[0m\u001b[0msubplot_kw\u001b[0m\u001b[1;33m,\u001b[0m\u001b[1;33m\u001b[0m\u001b[1;33m\u001b[0m\u001b[0m\n\u001b[0;32m   1413\u001b[0m                        gridspec_kw=gridspec_kw)\n",
      "\u001b[1;32m~\\anaconda3\\envs\\neurobooth\\lib\\site-packages\\matplotlib\\_api\\deprecation.py\u001b[0m in \u001b[0;36mwrapper\u001b[1;34m(*args, **kwargs)\u001b[0m\n\u001b[0;32m    469\u001b[0m                 \u001b[1;34m\"parameter will become keyword-only %(removal)s.\"\u001b[0m\u001b[1;33m,\u001b[0m\u001b[1;33m\u001b[0m\u001b[1;33m\u001b[0m\u001b[0m\n\u001b[0;32m    470\u001b[0m                 name=name, obj_type=f\"parameter of {func.__name__}()\")\n\u001b[1;32m--> 471\u001b[1;33m         \u001b[1;32mreturn\u001b[0m \u001b[0mfunc\u001b[0m\u001b[1;33m(\u001b[0m\u001b[1;33m*\u001b[0m\u001b[0margs\u001b[0m\u001b[1;33m,\u001b[0m \u001b[1;33m**\u001b[0m\u001b[0mkwargs\u001b[0m\u001b[1;33m)\u001b[0m\u001b[1;33m\u001b[0m\u001b[1;33m\u001b[0m\u001b[0m\n\u001b[0m\u001b[0;32m    472\u001b[0m \u001b[1;33m\u001b[0m\u001b[0m\n\u001b[0;32m    473\u001b[0m     \u001b[1;32mreturn\u001b[0m \u001b[0mwrapper\u001b[0m\u001b[1;33m\u001b[0m\u001b[1;33m\u001b[0m\u001b[0m\n",
      "\u001b[1;32m~\\anaconda3\\envs\\neurobooth\\lib\\site-packages\\matplotlib\\figure.py\u001b[0m in \u001b[0;36msubplots\u001b[1;34m(self, nrows, ncols, sharex, sharey, squeeze, subplot_kw, gridspec_kw)\u001b[0m\n\u001b[0;32m    905\u001b[0m         \u001b[1;32mif\u001b[0m \u001b[0mgridspec_kw\u001b[0m \u001b[1;32mis\u001b[0m \u001b[1;32mNone\u001b[0m\u001b[1;33m:\u001b[0m\u001b[1;33m\u001b[0m\u001b[1;33m\u001b[0m\u001b[0m\n\u001b[0;32m    906\u001b[0m             \u001b[0mgridspec_kw\u001b[0m \u001b[1;33m=\u001b[0m \u001b[1;33m{\u001b[0m\u001b[1;33m}\u001b[0m\u001b[1;33m\u001b[0m\u001b[1;33m\u001b[0m\u001b[0m\n\u001b[1;32m--> 907\u001b[1;33m         \u001b[0mgs\u001b[0m \u001b[1;33m=\u001b[0m \u001b[0mself\u001b[0m\u001b[1;33m.\u001b[0m\u001b[0madd_gridspec\u001b[0m\u001b[1;33m(\u001b[0m\u001b[0mnrows\u001b[0m\u001b[1;33m,\u001b[0m \u001b[0mncols\u001b[0m\u001b[1;33m,\u001b[0m \u001b[0mfigure\u001b[0m\u001b[1;33m=\u001b[0m\u001b[0mself\u001b[0m\u001b[1;33m,\u001b[0m \u001b[1;33m**\u001b[0m\u001b[0mgridspec_kw\u001b[0m\u001b[1;33m)\u001b[0m\u001b[1;33m\u001b[0m\u001b[1;33m\u001b[0m\u001b[0m\n\u001b[0m\u001b[0;32m    908\u001b[0m         axs = gs.subplots(sharex=sharex, sharey=sharey, squeeze=squeeze,\n\u001b[0;32m    909\u001b[0m                           subplot_kw=subplot_kw)\n",
      "\u001b[1;32m~\\anaconda3\\envs\\neurobooth\\lib\\site-packages\\matplotlib\\figure.py\u001b[0m in \u001b[0;36madd_gridspec\u001b[1;34m(self, nrows, ncols, **kwargs)\u001b[0m\n\u001b[0;32m   1403\u001b[0m \u001b[1;33m\u001b[0m\u001b[0m\n\u001b[0;32m   1404\u001b[0m         \u001b[0m_\u001b[0m \u001b[1;33m=\u001b[0m \u001b[0mkwargs\u001b[0m\u001b[1;33m.\u001b[0m\u001b[0mpop\u001b[0m\u001b[1;33m(\u001b[0m\u001b[1;34m'figure'\u001b[0m\u001b[1;33m,\u001b[0m \u001b[1;32mNone\u001b[0m\u001b[1;33m)\u001b[0m  \u001b[1;31m# pop in case user has added this...\u001b[0m\u001b[1;33m\u001b[0m\u001b[1;33m\u001b[0m\u001b[0m\n\u001b[1;32m-> 1405\u001b[1;33m         \u001b[0mgs\u001b[0m \u001b[1;33m=\u001b[0m \u001b[0mGridSpec\u001b[0m\u001b[1;33m(\u001b[0m\u001b[0mnrows\u001b[0m\u001b[1;33m=\u001b[0m\u001b[0mnrows\u001b[0m\u001b[1;33m,\u001b[0m \u001b[0mncols\u001b[0m\u001b[1;33m=\u001b[0m\u001b[0mncols\u001b[0m\u001b[1;33m,\u001b[0m \u001b[0mfigure\u001b[0m\u001b[1;33m=\u001b[0m\u001b[0mself\u001b[0m\u001b[1;33m,\u001b[0m \u001b[1;33m**\u001b[0m\u001b[0mkwargs\u001b[0m\u001b[1;33m)\u001b[0m\u001b[1;33m\u001b[0m\u001b[1;33m\u001b[0m\u001b[0m\n\u001b[0m\u001b[0;32m   1406\u001b[0m         \u001b[0mself\u001b[0m\u001b[1;33m.\u001b[0m\u001b[0m_gridspecs\u001b[0m\u001b[1;33m.\u001b[0m\u001b[0mappend\u001b[0m\u001b[1;33m(\u001b[0m\u001b[0mgs\u001b[0m\u001b[1;33m)\u001b[0m\u001b[1;33m\u001b[0m\u001b[1;33m\u001b[0m\u001b[0m\n\u001b[0;32m   1407\u001b[0m         \u001b[1;32mreturn\u001b[0m \u001b[0mgs\u001b[0m\u001b[1;33m\u001b[0m\u001b[1;33m\u001b[0m\u001b[0m\n",
      "\u001b[1;32m~\\anaconda3\\envs\\neurobooth\\lib\\site-packages\\matplotlib\\gridspec.py\u001b[0m in \u001b[0;36m__init__\u001b[1;34m(self, nrows, ncols, figure, left, bottom, right, top, wspace, hspace, width_ratios, height_ratios)\u001b[0m\n\u001b[0;32m    395\u001b[0m         \u001b[0mself\u001b[0m\u001b[1;33m.\u001b[0m\u001b[0mfigure\u001b[0m \u001b[1;33m=\u001b[0m \u001b[0mfigure\u001b[0m\u001b[1;33m\u001b[0m\u001b[1;33m\u001b[0m\u001b[0m\n\u001b[0;32m    396\u001b[0m \u001b[1;33m\u001b[0m\u001b[0m\n\u001b[1;32m--> 397\u001b[1;33m         super().__init__(nrows, ncols,\n\u001b[0m\u001b[0;32m    398\u001b[0m                          \u001b[0mwidth_ratios\u001b[0m\u001b[1;33m=\u001b[0m\u001b[0mwidth_ratios\u001b[0m\u001b[1;33m,\u001b[0m\u001b[1;33m\u001b[0m\u001b[1;33m\u001b[0m\u001b[0m\n\u001b[0;32m    399\u001b[0m                          height_ratios=height_ratios)\n",
      "\u001b[1;32m~\\anaconda3\\envs\\neurobooth\\lib\\site-packages\\matplotlib\\gridspec.py\u001b[0m in \u001b[0;36m__init__\u001b[1;34m(self, nrows, ncols, height_ratios, width_ratios)\u001b[0m\n\u001b[0;32m     47\u001b[0m         \"\"\"\n\u001b[0;32m     48\u001b[0m         \u001b[1;32mif\u001b[0m \u001b[1;32mnot\u001b[0m \u001b[0misinstance\u001b[0m\u001b[1;33m(\u001b[0m\u001b[0mnrows\u001b[0m\u001b[1;33m,\u001b[0m \u001b[0mIntegral\u001b[0m\u001b[1;33m)\u001b[0m \u001b[1;32mor\u001b[0m \u001b[0mnrows\u001b[0m \u001b[1;33m<=\u001b[0m \u001b[1;36m0\u001b[0m\u001b[1;33m:\u001b[0m\u001b[1;33m\u001b[0m\u001b[1;33m\u001b[0m\u001b[0m\n\u001b[1;32m---> 49\u001b[1;33m             raise ValueError(\n\u001b[0m\u001b[0;32m     50\u001b[0m                 f\"Number of rows must be a positive integer, not {nrows}\")\n\u001b[0;32m     51\u001b[0m         \u001b[1;32mif\u001b[0m \u001b[1;32mnot\u001b[0m \u001b[0misinstance\u001b[0m\u001b[1;33m(\u001b[0m\u001b[0mncols\u001b[0m\u001b[1;33m,\u001b[0m \u001b[0mIntegral\u001b[0m\u001b[1;33m)\u001b[0m \u001b[1;32mor\u001b[0m \u001b[0mncols\u001b[0m \u001b[1;33m<=\u001b[0m \u001b[1;36m0\u001b[0m\u001b[1;33m:\u001b[0m\u001b[1;33m\u001b[0m\u001b[1;33m\u001b[0m\u001b[0m\n",
      "\u001b[1;31mValueError\u001b[0m: Number of rows must be a positive integer, not 0"
     ]
    }
   ],
   "source": [
    " \n",
    "###############################################################################\n",
    "## Video\n",
    "####\n",
    "\n",
    "\n",
    "caps = [cv2.VideoCapture(vid) for vid in vids_intel]\n",
    "chinfs = [intels[vid.split(\"_\")[-2]] for vid in vids_intel]\n",
    "\n",
    "vid_mats = [read_vid(cap) for cap in caps]\n",
    "\n",
    "frame_nums = [find_closest(markers['time_stamps'][0], caminf) for caminf in chinfs]\n",
    "\n",
    "# plot_frames([vid_crp1, vid_crp2], frame_nums)\n",
    "frm_events =  [ [find_closest(m, vid) for m in markers['time_stamps']] \n",
    "                for vid in chinfs ]\n",
    "             \n",
    "plot_averg(vid_mats, frm_events)\n",
    "\n"
   ]
  },
  {
   "cell_type": "code",
   "execution_count": null,
   "id": "2855c379",
   "metadata": {},
   "outputs": [],
   "source": [
    "###############################################################################\n",
    "## Audio\n",
    "####\n",
    "\n",
    "evts = [np.argmin(np.abs(audio['time_stamps'] - e)) for e in  markers['time_stamps']]\n",
    "audio_data =  np.hstack(audio['time_series'][evts[0]:, :])\n",
    "plt.figure(), plt.plot( np.hstack(audio['time_series'][evts[0]:, :]))\n",
    "\n",
    "_ = [plt.axvline((e-evts[0])*1024, color='r') for e in evts]"
   ]
  },
  {
   "cell_type": "code",
   "execution_count": null,
   "id": "87797ac8",
   "metadata": {},
   "outputs": [],
   "source": [
    "ipd.Audio(audio_data, rate = 41000)"
   ]
  },
  {
   "cell_type": "code",
   "execution_count": null,
   "id": "1ed32189",
   "metadata": {},
   "outputs": [],
   "source": [
    "n_fft = 2048 # time window size for FFT\n",
    "n_mels = 64 # number of mel bands\n",
    "hop_length = 1024 # Set the hop length; at 22050 Hz, 512 samples ~= 23ms\n",
    "sampling_rate = 41000\n",
    "#Going over all the files for the task\n",
    "signal_, index = librosa.effects.trim(audio_data, top_db=15, frame_length=n_fft, hop_length=hop_length)"
   ]
  },
  {
   "cell_type": "code",
   "execution_count": null,
   "id": "eb1a28b5",
   "metadata": {},
   "outputs": [],
   "source": [
    "#Compute the mel-scaled spectrogram in dB\n",
    "S = librosa.feature.melspectrogram(signal_, sr=sampling_rate, n_fft=n_fft, hop_length=hop_length, n_mels=n_mels, window='hann')\n",
    "S_dB = librosa.power_to_db(S, ref=np.max)"
   ]
  },
  {
   "cell_type": "code",
   "execution_count": null,
   "id": "9df6bd67",
   "metadata": {},
   "outputs": [],
   "source": [
    "librosa.display.specshow(S_dB, x_axis='s',y_axis='mel', sr=41000, hop_length= 160)"
   ]
  },
  {
   "cell_type": "code",
   "execution_count": null,
   "id": "8ab82d84",
   "metadata": {},
   "outputs": [],
   "source": [
    "\n",
    "###############################################################################\n",
    "# vids_arr = [(np.array(vid)[cam['time_series']], cam['time_stamps']) for vid, cam in zip(vid_mats, chinfs)]\n",
    "\n",
    "# plt.figure(), \n",
    "# for vid in vids_arr:\n",
    "#     plt.plot(vid[1], (vid[0] - vid[0].mean()) /vid[0].std())\n",
    " \n",
    "audio_data =  audio['time_series'].max(1)\n",
    "tsmp_a = audio['time_stamps']\n",
    "tmax = len(audio_data)\n",
    "\n",
    "plt.plot(tsmp_a[:tmax], (audio_data - audio_data.mean())/audio_data.std())\n",
    "\n",
    "tt = markers['time_stamps']\n",
    "plt.vlines(tt,-4, 4, \"red\")"
   ]
  }
 ],
 "metadata": {
  "kernelspec": {
   "display_name": "Python 3",
   "language": "python",
   "name": "python3"
  },
  "language_info": {
   "codemirror_mode": {
    "name": "ipython",
    "version": 3
   },
   "file_extension": ".py",
   "mimetype": "text/x-python",
   "name": "python",
   "nbconvert_exporter": "python",
   "pygments_lexer": "ipython3",
   "version": "3.8.8"
  }
 },
 "nbformat": 4,
 "nbformat_minor": 5
}
